{
 "cells": [
  {
   "cell_type": "markdown",
   "metadata": {},
   "source": [
    "# Preprocessing"
   ]
  },
  {
   "cell_type": "markdown",
   "metadata": {},
   "source": [
    "##### Package Imports"
   ]
  },
  {
   "cell_type": "code",
   "execution_count": 1,
   "metadata": {},
   "outputs": [],
   "source": [
    "import time\n",
    "import threading\n",
    "from datetime import date, datetime, timedelta"
   ]
  },
  {
   "cell_type": "markdown",
   "metadata": {},
   "source": [
    "##### Chart Null values"
   ]
  },
  {
   "cell_type": "code",
   "execution_count": 2,
   "metadata": {},
   "outputs": [],
   "source": [
    "def find_null(df):\n",
    "    count = df.isnull().sum().values\n",
    "    total = df.shape[0]\n",
    "    ratio = count/total\n",
    "    return pd.DataFrame(df={'missing_count':count, 'missing_ratio':ratio}, index=df.columns.values)"
   ]
  },
  {
   "cell_type": "markdown",
   "metadata": {},
   "source": [
    "##### UTC to Date Function"
   ]
  },
  {
   "cell_type": "code",
   "execution_count": 3,
   "metadata": {},
   "outputs": [],
   "source": [
    "def dateconvert(df):\n",
    "    \n",
    "    df['Date'] = ''\n",
    "    for i in range (0,len(df)):\n",
    "        df['Date'][i] = time.strftime('%Y-%m-%d', time.localtime(df['created_utc'][i]))\n",
    "        \n",
    "    df.drop_duplicates(subset =\"created_utc\", inplace = True)"
   ]
  },
  {
   "cell_type": "markdown",
   "metadata": {},
   "source": [
    "##### Missing Dates Function"
   ]
  },
  {
   "cell_type": "code",
   "execution_count": 4,
   "metadata": {},
   "outputs": [],
   "source": [
    "def missingdates(df, year):\n",
    "    #https://stackoverflow.com/questions/10688006/generate-a-list-of-datetimes-between-an-interval\n",
    "    #Credit to Martjin Peters\n",
    "\n",
    "    def perdelta(start, end, delta):\n",
    "        curr = start\n",
    "        while curr < end:\n",
    "            yield curr\n",
    "            curr += delta\n",
    "    \n",
    "    date_list = []\n",
    "    for result in perdelta(date(year, 1, 1), date((year+1), 1, 1), timedelta(days=1)):\n",
    "        date_list.append(str(result))\n",
    "            \n",
    "    date_df = df.groupby('Date').agg('sum')\n",
    "    date_df['date'] = date_df.index\n",
    "    \n",
    "    for i in range(len(date_df)):\n",
    "        for j in range(len(date_list)-1):\n",
    "            if date_df['date'][i] == date_list[j]:\n",
    "                date_list.remove(date_list[j])\n",
    "                \n",
    "    return date_list"
   ]
  },
  {
   "cell_type": "markdown",
   "metadata": {},
   "source": [
    "##### Merge Texts Function"
   ]
  },
  {
   "cell_type": "code",
   "execution_count": 5,
   "metadata": {},
   "outputs": [],
   "source": [
    "def mergetexts(df):\n",
    "    \n",
    "    for i in range(0, len(df['title'])):\n",
    "        if pd.isnull(df['selftext'][i]) == True:\n",
    "            pass\n",
    "        elif bit['selftext'][i] == '[removed]':\n",
    "            pass\n",
    "        else:\n",
    "            df['title'][i] = df['title'][i] + df['selftext'][i]"
   ]
  }
 ],
 "metadata": {
  "kernelspec": {
   "display_name": "Python 3",
   "language": "python",
   "name": "python3"
  },
  "language_info": {
   "codemirror_mode": {
    "name": "ipython",
    "version": 3
   },
   "file_extension": ".py",
   "mimetype": "text/x-python",
   "name": "python",
   "nbconvert_exporter": "python",
   "pygments_lexer": "ipython3",
   "version": "3.7.4"
  }
 },
 "nbformat": 4,
 "nbformat_minor": 2
}
