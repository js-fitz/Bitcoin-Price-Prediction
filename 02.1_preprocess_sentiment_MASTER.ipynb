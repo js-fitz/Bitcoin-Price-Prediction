{
 "cells": [
  {
   "cell_type": "markdown",
   "metadata": {},
   "source": [
    "### Reading into the DataFrame"
   ]
  },
  {
   "cell_type": "code",
   "execution_count": null,
   "metadata": {},
   "outputs": [],
   "source": [
    "df_2017 = pd.read_csv('./Reddit_data/Combined_Yearly_Data/stage2_fulltext2017.csv')\n",
    "df_2018 = pd.read_csv('./Reddit_data/Combined_Yearly_Data/stage2_fulltext2018.csv')\n",
    "df_2019 = pd.read_csv('./Reddit_data/Combined_Yearly_Data/stage2_fulltext2019.csv')\n",
    "df_2020 = pd.read_csv('./Reddit_data/Combined_Yearly_Data/stage2_fulltext2020.csv')"
   ]
  },
  {
   "cell_type": "code",
   "execution_count": 1,
   "metadata": {},
   "outputs": [
    {
     "data": {
      "application/javascript": [
       "\n",
       "        if (window._pyforest_update_imports_cell) { window._pyforest_update_imports_cell('import pandas as pd'); }\n",
       "    "
      ],
      "text/plain": [
       "<IPython.core.display.Javascript object>"
      ]
     },
     "metadata": {},
     "output_type": "display_data"
    }
   ],
   "source": [
    "df = pd.read_csv('./Reddit_data/Combined_Yearly_Data/stage4_sent2020.csv')"
   ]
  },
  {
   "cell_type": "markdown",
   "metadata": {},
   "source": [
    "### Checking for Null Values"
   ]
  },
  {
   "cell_type": "code",
   "execution_count": 5,
   "metadata": {},
   "outputs": [],
   "source": [
    "removenull(df)"
   ]
  },
  {
   "cell_type": "code",
   "execution_count": 4,
   "metadata": {},
   "outputs": [],
   "source": [
    "def removenull(df):\n",
    "    if df['title'].isnull().sum() != 0:\n",
    "        df.dropna(subset=['title'], inplace = True)"
   ]
  },
  {
   "cell_type": "markdown",
   "metadata": {},
   "source": [
    "### Concatenating Titles and Self Text"
   ]
  },
  {
   "cell_type": "code",
   "execution_count": null,
   "metadata": {},
   "outputs": [],
   "source": [
    "def textcombine(df):\n",
    "    df['title_and_text'] = ''\n",
    "    for i in range(0, len(df['title'])):\n",
    "        if pd.isnull(df['selftext'][i]) == True:\n",
    "            df['title_and_text'][i] = df['title'][i]\n",
    "        elif df['selftext'][i] == '[removed]':\n",
    "            df['title_and_text'][i] = df['title'][i]\n",
    "        else:\n",
    "            df['title_and_text'][i] = df['title'][i] + ' ' + df['selftext'][i]"
   ]
  },
  {
   "cell_type": "markdown",
   "metadata": {},
   "source": [
    "### Text Normalization"
   ]
  },
  {
   "cell_type": "code",
   "execution_count": null,
   "metadata": {},
   "outputs": [],
   "source": [
    "from bs4 import BeautifulSoup\n",
    "from nltk.corpus import stopwords"
   ]
  },
  {
   "cell_type": "code",
   "execution_count": null,
   "metadata": {},
   "outputs": [],
   "source": [
    "def standardize_text(df, column):\n",
    "    for i in range(len(df)):\n",
    "\n",
    "        review_text = str(BeautifulSoup(df[column][i]).get_text())\n",
    "\n",
    "        letters_only = re.sub(\"[^a-zA-Z0-9]\", \" \", review_text)\n",
    "\n",
    "\n",
    "        words = letters_only.lower().split()\n",
    "\n",
    "        stops = set(stopwords.words('english'))\n",
    "\n",
    "\n",
    "        meaningful_words = [w for w in words if w not in stops]\n",
    "\n",
    "        df[column][i] = \" \".join(meaningful_words)"
   ]
  },
  {
   "cell_type": "markdown",
   "metadata": {},
   "source": [
    "###  Sentiment Analyzer (Vader, Textblob, Flair) (Spacy, StanfordNLP)"
   ]
  },
  {
   "cell_type": "code",
   "execution_count": 10,
   "metadata": {},
   "outputs": [],
   "source": [
    "from nltk.classify import NaiveBayesClassifier\n",
    "from nltk.corpus import subjectivity\n",
    "from nltk.sentiment import SentimentAnalyzer\n",
    "from nltk.sentiment.util import *\n",
    "from nltk.sentiment.vader import SentimentIntensityAnalyzer\n",
    "from textblob import TextBlob\n",
    "from textblob.sentiments import NaiveBayesAnalyzer\n",
    "import flair\n",
    "from flair.data import Sentence\n",
    "from flair.models import SequenceTagger"
   ]
  },
  {
   "cell_type": "code",
   "execution_count": null,
   "metadata": {},
   "outputs": [],
   "source": [
    "sid = SentimentIntensityAnalyzer()"
   ]
  },
  {
   "cell_type": "code",
   "execution_count": null,
   "metadata": {},
   "outputs": [],
   "source": [
    "def vader_score(df, column):\n",
    "    \n",
    "    df[\"vader_neu_score\"] = \"\"\n",
    "    df[\"vader_pos_score\"] = \"\"\n",
    "    df[\"vader_neg_score\"] = \"\"\n",
    "    df[\"vader_compound\"] = \"\"\n",
    "    \n",
    "    for i in range(0, len(df)):\n",
    "        sid = SentimentIntensityAnalyzer()\n",
    "        sent_dict = sid.polarity_scores(df[column][i])\n",
    "        df[\"vader_neg_score\"][i] = sent_dict['neg']\n",
    "        df[\"vader_neu_score\"][i] = sent_dict['neu']\n",
    "        df[\"vader_pos_score\"][i] = sent_dict['pos']\n",
    "        df[\"vader_compound\"][i] = sent_dict['compound']"
   ]
  },
  {
   "cell_type": "code",
   "execution_count": 11,
   "metadata": {},
   "outputs": [],
   "source": [
    "def blob_score(df, column):\n",
    "    \n",
    "    df['blob_polarity'] = ''\n",
    "    df['blob_subjectivity'] = ''\n",
    "    \n",
    "    for i in range(len(df)):\n",
    "        blob = TextBlob(df[column][i])\n",
    "        df['blob_polarity'][i] = blob.sentiment[0]\n",
    "        df['blob_subjectivity'][i] = blob.sentiment[1]"
   ]
  },
  {
   "cell_type": "code",
   "execution_count": 12,
   "metadata": {},
   "outputs": [
    {
     "name": "stderr",
     "output_type": "stream",
     "text": [
      "C:\\Users\\bhuan\\Anaconda3\\lib\\site-packages\\ipykernel_launcher.py:8: SettingWithCopyWarning: \n",
      "A value is trying to be set on a copy of a slice from a DataFrame\n",
      "\n",
      "See the caveats in the documentation: http://pandas.pydata.org/pandas-docs/stable/user_guide/indexing.html#returning-a-view-versus-a-copy\n",
      "  \n",
      "C:\\Users\\bhuan\\Anaconda3\\lib\\site-packages\\ipykernel_launcher.py:9: SettingWithCopyWarning: \n",
      "A value is trying to be set on a copy of a slice from a DataFrame\n",
      "\n",
      "See the caveats in the documentation: http://pandas.pydata.org/pandas-docs/stable/user_guide/indexing.html#returning-a-view-versus-a-copy\n",
      "  if __name__ == '__main__':\n"
     ]
    }
   ],
   "source": [
    "blob_score(df, 'title_and_text')"
   ]
  },
  {
   "cell_type": "code",
   "execution_count": 13,
   "metadata": {},
   "outputs": [
    {
     "data": {
      "text/html": [
       "<div>\n",
       "<style scoped>\n",
       "    .dataframe tbody tr th:only-of-type {\n",
       "        vertical-align: middle;\n",
       "    }\n",
       "\n",
       "    .dataframe tbody tr th {\n",
       "        vertical-align: top;\n",
       "    }\n",
       "\n",
       "    .dataframe thead th {\n",
       "        text-align: right;\n",
       "    }\n",
       "</style>\n",
       "<table border=\"1\" class=\"dataframe\">\n",
       "  <thead>\n",
       "    <tr style=\"text-align: right;\">\n",
       "      <th></th>\n",
       "      <th>subreddit</th>\n",
       "      <th>created_utc</th>\n",
       "      <th>title</th>\n",
       "      <th>selftext</th>\n",
       "      <th>score</th>\n",
       "      <th>Date</th>\n",
       "      <th>title_and_text</th>\n",
       "      <th>vader_neu_score</th>\n",
       "      <th>vader_pos_score</th>\n",
       "      <th>vader_neg_score</th>\n",
       "      <th>vader_compound</th>\n",
       "      <th>textblob_score</th>\n",
       "      <th>blob_polarity</th>\n",
       "      <th>blob_subjectivity</th>\n",
       "      <th>flair_polarity</th>\n",
       "      <th>flair_score</th>\n",
       "    </tr>\n",
       "  </thead>\n",
       "  <tbody>\n",
       "    <tr>\n",
       "      <th>0</th>\n",
       "      <td>Bitcoin</td>\n",
       "      <td>1577855217</td>\n",
       "      <td>(20) BTC Pay Server: Pairing your Exodus Walle...</td>\n",
       "      <td>NaN</td>\n",
       "      <td>1</td>\n",
       "      <td>2020-01-01</td>\n",
       "      <td>(20) BTC Pay Server: Pairing your Exodus Walle...</td>\n",
       "      <td>0.896</td>\n",
       "      <td>0.000</td>\n",
       "      <td>0.104</td>\n",
       "      <td>-0.1027</td>\n",
       "      <td>NaN</td>\n",
       "      <td>0</td>\n",
       "      <td>0</td>\n",
       "      <td>NEGATIVE</td>\n",
       "      <td>0.997896</td>\n",
       "    </tr>\n",
       "    <tr>\n",
       "      <th>1</th>\n",
       "      <td>Bitcoin</td>\n",
       "      <td>1577855404</td>\n",
       "      <td>Happy New Year Crypto family</td>\n",
       "      <td>NaN</td>\n",
       "      <td>1</td>\n",
       "      <td>2020-01-01</td>\n",
       "      <td>Happy New Year Crypto family</td>\n",
       "      <td>0.519</td>\n",
       "      <td>0.481</td>\n",
       "      <td>0.000</td>\n",
       "      <td>0.5719</td>\n",
       "      <td>NaN</td>\n",
       "      <td>0.468182</td>\n",
       "      <td>0.727273</td>\n",
       "      <td>POSITIVE</td>\n",
       "      <td>0.999864</td>\n",
       "    </tr>\n",
       "    <tr>\n",
       "      <th>2</th>\n",
       "      <td>Bitcoin</td>\n",
       "      <td>1577857479</td>\n",
       "      <td>Whaddaya think? Is this how our financial syst...</td>\n",
       "      <td>NaN</td>\n",
       "      <td>1</td>\n",
       "      <td>2020-01-01</td>\n",
       "      <td>Whaddaya think? Is this how our financial syst...</td>\n",
       "      <td>0.796</td>\n",
       "      <td>0.204</td>\n",
       "      <td>0.000</td>\n",
       "      <td>0.6544</td>\n",
       "      <td>NaN</td>\n",
       "      <td>0.323485</td>\n",
       "      <td>0.484848</td>\n",
       "      <td>NEGATIVE</td>\n",
       "      <td>0.993958</td>\n",
       "    </tr>\n",
       "    <tr>\n",
       "      <th>3</th>\n",
       "      <td>Bitcoin</td>\n",
       "      <td>1577860038</td>\n",
       "      <td>Happy New Year to All!</td>\n",
       "      <td>I hope this year will be more Happy and Healt...</td>\n",
       "      <td>1</td>\n",
       "      <td>2020-01-01</td>\n",
       "      <td>Happy New Year to All!  I hope this year will ...</td>\n",
       "      <td>0.470</td>\n",
       "      <td>0.530</td>\n",
       "      <td>0.000</td>\n",
       "      <td>0.9268</td>\n",
       "      <td>NaN</td>\n",
       "      <td>0.554091</td>\n",
       "      <td>0.690909</td>\n",
       "      <td>POSITIVE</td>\n",
       "      <td>0.999989</td>\n",
       "    </tr>\n",
       "    <tr>\n",
       "      <th>4</th>\n",
       "      <td>Bitcoin</td>\n",
       "      <td>1577860986</td>\n",
       "      <td>2k gifted in bitcoin? Scam?</td>\n",
       "      <td>&amp;amp;#x200B;\\n\\n[not sure if this is legit the...</td>\n",
       "      <td>1</td>\n",
       "      <td>2020-01-01</td>\n",
       "      <td>2k gifted in bitcoin? Scam? &amp;amp;#x200B;\\n\\n[n...</td>\n",
       "      <td>0.788</td>\n",
       "      <td>0.132</td>\n",
       "      <td>0.081</td>\n",
       "      <td>-0.1506</td>\n",
       "      <td>NaN</td>\n",
       "      <td>0.125</td>\n",
       "      <td>0.944444</td>\n",
       "      <td>NEGATIVE</td>\n",
       "      <td>0.999743</td>\n",
       "    </tr>\n",
       "    <tr>\n",
       "      <th>...</th>\n",
       "      <td>...</td>\n",
       "      <td>...</td>\n",
       "      <td>...</td>\n",
       "      <td>...</td>\n",
       "      <td>...</td>\n",
       "      <td>...</td>\n",
       "      <td>...</td>\n",
       "      <td>...</td>\n",
       "      <td>...</td>\n",
       "      <td>...</td>\n",
       "      <td>...</td>\n",
       "      <td>...</td>\n",
       "      <td>...</td>\n",
       "      <td>...</td>\n",
       "      <td>...</td>\n",
       "      <td>...</td>\n",
       "    </tr>\n",
       "    <tr>\n",
       "      <th>12251</th>\n",
       "      <td>Bitcoin</td>\n",
       "      <td>1583679513</td>\n",
       "      <td>How North Korean hackers exploit Bitcoin’s blo...</td>\n",
       "      <td>NaN</td>\n",
       "      <td>1</td>\n",
       "      <td>2020-03-08</td>\n",
       "      <td>How North Korean hackers exploit Bitcoin’s blo...</td>\n",
       "      <td>0.877</td>\n",
       "      <td>0.000</td>\n",
       "      <td>0.123</td>\n",
       "      <td>-0.1027</td>\n",
       "      <td>NaN</td>\n",
       "      <td>0</td>\n",
       "      <td>0</td>\n",
       "      <td>NaN</td>\n",
       "      <td>NaN</td>\n",
       "    </tr>\n",
       "    <tr>\n",
       "      <th>12252</th>\n",
       "      <td>Bitcoin</td>\n",
       "      <td>1583680203</td>\n",
       "      <td>Coinbase CEO Makes Serious Warning</td>\n",
       "      <td>NaN</td>\n",
       "      <td>1</td>\n",
       "      <td>2020-03-08</td>\n",
       "      <td>Coinbase CEO Makes Serious Warning</td>\n",
       "      <td>0.448</td>\n",
       "      <td>0.000</td>\n",
       "      <td>0.552</td>\n",
       "      <td>-0.4019</td>\n",
       "      <td>NaN</td>\n",
       "      <td>-0.333333</td>\n",
       "      <td>0.666667</td>\n",
       "      <td>NaN</td>\n",
       "      <td>NaN</td>\n",
       "    </tr>\n",
       "    <tr>\n",
       "      <th>12253</th>\n",
       "      <td>Bitcoin</td>\n",
       "      <td>1583680221</td>\n",
       "      <td>New CRYPTOCURRENCY - EXITSCAM</td>\n",
       "      <td>NaN</td>\n",
       "      <td>1</td>\n",
       "      <td>2020-03-08</td>\n",
       "      <td>New CRYPTOCURRENCY - EXITSCAM</td>\n",
       "      <td>1.000</td>\n",
       "      <td>0.000</td>\n",
       "      <td>0.000</td>\n",
       "      <td>0.0000</td>\n",
       "      <td>NaN</td>\n",
       "      <td>0.136364</td>\n",
       "      <td>0.454545</td>\n",
       "      <td>NaN</td>\n",
       "      <td>NaN</td>\n",
       "    </tr>\n",
       "    <tr>\n",
       "      <th>12254</th>\n",
       "      <td>Bitcoin</td>\n",
       "      <td>1583681553</td>\n",
       "      <td>People Are Getting Bored Already Of This Price...</td>\n",
       "      <td>https://u.today/bitcoin-btc-advice-from-top-tr...</td>\n",
       "      <td>1</td>\n",
       "      <td>2020-03-08</td>\n",
       "      <td>People Are Getting Bored Already Of This Price...</td>\n",
       "      <td>0.826</td>\n",
       "      <td>0.000</td>\n",
       "      <td>0.174</td>\n",
       "      <td>-0.2732</td>\n",
       "      <td>NaN</td>\n",
       "      <td>-0.5</td>\n",
       "      <td>1</td>\n",
       "      <td>NaN</td>\n",
       "      <td>NaN</td>\n",
       "    </tr>\n",
       "    <tr>\n",
       "      <th>12255</th>\n",
       "      <td>Bitcoin</td>\n",
       "      <td>1583681637</td>\n",
       "      <td>Install CryptoTab browser and get real Bitcoin...</td>\n",
       "      <td>NaN</td>\n",
       "      <td>1</td>\n",
       "      <td>2020-03-08</td>\n",
       "      <td>Install CryptoTab browser and get real Bitcoin...</td>\n",
       "      <td>0.945</td>\n",
       "      <td>0.055</td>\n",
       "      <td>0.000</td>\n",
       "      <td>0.1779</td>\n",
       "      <td>NaN</td>\n",
       "      <td>0.0458333</td>\n",
       "      <td>0.191667</td>\n",
       "      <td>NaN</td>\n",
       "      <td>NaN</td>\n",
       "    </tr>\n",
       "  </tbody>\n",
       "</table>\n",
       "<p>12256 rows × 16 columns</p>\n",
       "</div>"
      ],
      "text/plain": [
       "      subreddit  created_utc  \\\n",
       "0       Bitcoin   1577855217   \n",
       "1       Bitcoin   1577855404   \n",
       "2       Bitcoin   1577857479   \n",
       "3       Bitcoin   1577860038   \n",
       "4       Bitcoin   1577860986   \n",
       "...         ...          ...   \n",
       "12251   Bitcoin   1583679513   \n",
       "12252   Bitcoin   1583680203   \n",
       "12253   Bitcoin   1583680221   \n",
       "12254   Bitcoin   1583681553   \n",
       "12255   Bitcoin   1583681637   \n",
       "\n",
       "                                                   title  \\\n",
       "0      (20) BTC Pay Server: Pairing your Exodus Walle...   \n",
       "1                           Happy New Year Crypto family   \n",
       "2      Whaddaya think? Is this how our financial syst...   \n",
       "3                                 Happy New Year to All!   \n",
       "4                            2k gifted in bitcoin? Scam?   \n",
       "...                                                  ...   \n",
       "12251  How North Korean hackers exploit Bitcoin’s blo...   \n",
       "12252                 Coinbase CEO Makes Serious Warning   \n",
       "12253                      New CRYPTOCURRENCY - EXITSCAM   \n",
       "12254  People Are Getting Bored Already Of This Price...   \n",
       "12255  Install CryptoTab browser and get real Bitcoin...   \n",
       "\n",
       "                                                selftext  score        Date  \\\n",
       "0                                                    NaN      1  2020-01-01   \n",
       "1                                                    NaN      1  2020-01-01   \n",
       "2                                                    NaN      1  2020-01-01   \n",
       "3       I hope this year will be more Happy and Healt...      1  2020-01-01   \n",
       "4      &amp;#x200B;\\n\\n[not sure if this is legit the...      1  2020-01-01   \n",
       "...                                                  ...    ...         ...   \n",
       "12251                                                NaN      1  2020-03-08   \n",
       "12252                                                NaN      1  2020-03-08   \n",
       "12253                                                NaN      1  2020-03-08   \n",
       "12254  https://u.today/bitcoin-btc-advice-from-top-tr...      1  2020-03-08   \n",
       "12255                                                NaN      1  2020-03-08   \n",
       "\n",
       "                                          title_and_text  vader_neu_score  \\\n",
       "0      (20) BTC Pay Server: Pairing your Exodus Walle...            0.896   \n",
       "1                           Happy New Year Crypto family            0.519   \n",
       "2      Whaddaya think? Is this how our financial syst...            0.796   \n",
       "3      Happy New Year to All!  I hope this year will ...            0.470   \n",
       "4      2k gifted in bitcoin? Scam? &amp;#x200B;\\n\\n[n...            0.788   \n",
       "...                                                  ...              ...   \n",
       "12251  How North Korean hackers exploit Bitcoin’s blo...            0.877   \n",
       "12252                 Coinbase CEO Makes Serious Warning            0.448   \n",
       "12253                      New CRYPTOCURRENCY - EXITSCAM            1.000   \n",
       "12254  People Are Getting Bored Already Of This Price...            0.826   \n",
       "12255  Install CryptoTab browser and get real Bitcoin...            0.945   \n",
       "\n",
       "       vader_pos_score  vader_neg_score  vader_compound  textblob_score  \\\n",
       "0                0.000            0.104         -0.1027             NaN   \n",
       "1                0.481            0.000          0.5719             NaN   \n",
       "2                0.204            0.000          0.6544             NaN   \n",
       "3                0.530            0.000          0.9268             NaN   \n",
       "4                0.132            0.081         -0.1506             NaN   \n",
       "...                ...              ...             ...             ...   \n",
       "12251            0.000            0.123         -0.1027             NaN   \n",
       "12252            0.000            0.552         -0.4019             NaN   \n",
       "12253            0.000            0.000          0.0000             NaN   \n",
       "12254            0.000            0.174         -0.2732             NaN   \n",
       "12255            0.055            0.000          0.1779             NaN   \n",
       "\n",
       "      blob_polarity blob_subjectivity flair_polarity  flair_score  \n",
       "0                 0                 0       NEGATIVE     0.997896  \n",
       "1          0.468182          0.727273       POSITIVE     0.999864  \n",
       "2          0.323485          0.484848       NEGATIVE     0.993958  \n",
       "3          0.554091          0.690909       POSITIVE     0.999989  \n",
       "4             0.125          0.944444       NEGATIVE     0.999743  \n",
       "...             ...               ...            ...          ...  \n",
       "12251             0                 0            NaN          NaN  \n",
       "12252     -0.333333          0.666667            NaN          NaN  \n",
       "12253      0.136364          0.454545            NaN          NaN  \n",
       "12254          -0.5                 1            NaN          NaN  \n",
       "12255     0.0458333          0.191667            NaN          NaN  \n",
       "\n",
       "[12256 rows x 16 columns]"
      ]
     },
     "execution_count": 13,
     "metadata": {},
     "output_type": "execute_result"
    }
   ],
   "source": [
    "df"
   ]
  },
  {
   "cell_type": "code",
   "execution_count": null,
   "metadata": {},
   "outputs": [],
   "source": [
    "def flair_score(df, column):\n",
    "    \n",
    "    flair_sentiment = flair.models.TextClassifier.load('en-sentiment')\n",
    "    df['flair_polarity'] = \"\"\n",
    "    df['flair_score'] = \"\"\n",
    "    \n",
    "    for i in range(0, len(df)):\n",
    "        s = flair.data.Sentence(df[column][i])\n",
    "        flair_sentiment.predict(s)\n",
    "        total_sentiment = s.labels\n",
    "        total_sentiment\n",
    "        df['flair_polarity'][i] = str(total_sentiment[0]).split(' (')[0]\n",
    "        df['flair_score'][i] = (str(total_sentiment[0]).split(' (')[1].split(')')[0])"
   ]
  },
  {
   "cell_type": "markdown",
   "metadata": {},
   "source": [
    "We can see that polarity is 0.8, which means that the statement is positive and 0.75 subjectivity refers that mostly it is a public opinion and not a factual information."
   ]
  },
  {
   "cell_type": "markdown",
   "metadata": {},
   "source": [
    "### Making Mean Sentiment Scores"
   ]
  },
  {
   "cell_type": "code",
   "execution_count": null,
   "metadata": {},
   "outputs": [],
   "source": [
    "df['neu_score'] = df['neu_score'].astype(str).astype(float)\n",
    "df['pos_score'] = df['pos_score'].astype(str).astype(float)\n",
    "df['neg_score'] = df['neg_score'].astype(str).astype(float)\n",
    "df['compound'] = df['compound'].astype(str).astype(float)"
   ]
  },
  {
   "cell_type": "code",
   "execution_count": null,
   "metadata": {},
   "outputs": [],
   "source": [
    "mean_df = df.groupby('Date').agg('mean')"
   ]
  },
  {
   "cell_type": "markdown",
   "metadata": {},
   "source": [
    "### Counting Posts Per day"
   ]
  },
  {
   "cell_type": "code",
   "execution_count": null,
   "metadata": {},
   "outputs": [],
   "source": [
    "df['Sum_posts'] = 1"
   ]
  },
  {
   "cell_type": "code",
   "execution_count": null,
   "metadata": {},
   "outputs": [],
   "source": [
    "sum_df = df.groupby('Date').agg('sum')"
   ]
  },
  {
   "cell_type": "code",
   "execution_count": null,
   "metadata": {},
   "outputs": [],
   "source": [
    "sum_df.drop(columns = sum_df.columns[:-1], inplace = True)"
   ]
  },
  {
   "cell_type": "code",
   "execution_count": null,
   "metadata": {},
   "outputs": [],
   "source": [
    "df2 = pd.merge(mean_df, sum_df, left_index = True, right_index = True)"
   ]
  },
  {
   "cell_type": "code",
   "execution_count": null,
   "metadata": {},
   "outputs": [],
   "source": [
    "mini_sum['zip_code'] = mini_sum.index"
   ]
  },
  {
   "cell_type": "code",
   "execution_count": null,
   "metadata": {},
   "outputs": [],
   "source": [
    "df2.to_csv('summation_final17.csv', index = True)"
   ]
  },
  {
   "cell_type": "markdown",
   "metadata": {},
   "source": [
    "### Visuals"
   ]
  },
  {
   "cell_type": "code",
   "execution_count": null,
   "metadata": {},
   "outputs": [],
   "source": [
    "plt.plot(mean_df['compound'], label = 'Compound Score')\n",
    "plt.axhline(y=0.05, color='r', linestyle='-')\n",
    "plt.axhline(y=-0.05, color='b', linestyle='-')\n",
    "plt.legend()"
   ]
  }
 ],
 "metadata": {
  "kernelspec": {
   "display_name": "Python 3",
   "language": "python",
   "name": "python3"
  },
  "language_info": {
   "codemirror_mode": {
    "name": "ipython",
    "version": 3
   },
   "file_extension": ".py",
   "mimetype": "text/x-python",
   "name": "python",
   "nbconvert_exporter": "python",
   "pygments_lexer": "ipython3",
   "version": "3.7.4"
  }
 },
 "nbformat": 4,
 "nbformat_minor": 2
}
