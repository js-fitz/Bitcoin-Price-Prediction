{
 "cells": [
  {
   "cell_type": "code",
   "execution_count": 1,
   "metadata": {},
   "outputs": [],
   "source": [
    "import pandas as pd\n",
    "\n",
    "from sklearn.preprocessing import MinMaxScaler, StandardScaler\n",
    "from sklearn.model_selection import train_test_split\n",
    "from sklearn.metrics import accuracy_score\n",
    "\n",
    "from tensorflow.keras.models import Sequential\n",
    "from tensorflow.keras.layers import Dense, Dropout, GRU, LSTM\n",
    "from tensorflow.keras.optimizers import Adam\n",
    "from tensorflow.keras.preprocessing.sequence import TimeseriesGenerator\n",
    "\n",
    "import numpy as np\n",
    "import matplotlib.pyplot as plt\n",
    "%matplotlib inline"
   ]
  },
  {
   "cell_type": "markdown",
   "metadata": {},
   "source": [
    "### Import Data"
   ]
  },
  {
   "cell_type": "code",
   "execution_count": 2,
   "metadata": {
    "scrolled": true
   },
   "outputs": [
    {
     "data": {
      "text/html": [
       "<div>\n",
       "<style scoped>\n",
       "    .dataframe tbody tr th:only-of-type {\n",
       "        vertical-align: middle;\n",
       "    }\n",
       "\n",
       "    .dataframe tbody tr th {\n",
       "        vertical-align: top;\n",
       "    }\n",
       "\n",
       "    .dataframe thead th {\n",
       "        text-align: right;\n",
       "    }\n",
       "</style>\n",
       "<table border=\"1\" class=\"dataframe\">\n",
       "  <thead>\n",
       "    <tr style=\"text-align: right;\">\n",
       "      <th></th>\n",
       "      <th>Date</th>\n",
       "      <th>created_utc</th>\n",
       "      <th>score</th>\n",
       "      <th>vader_neu_score</th>\n",
       "      <th>vader_pos_score</th>\n",
       "      <th>vader_neg_score</th>\n",
       "      <th>vader_compound</th>\n",
       "      <th>blob_polarity</th>\n",
       "      <th>blob_subjectivity</th>\n",
       "      <th>sum_posts_x</th>\n",
       "      <th>sum_posts_y</th>\n",
       "      <th>b_cash_price</th>\n",
       "      <th>btc_price</th>\n",
       "      <th>ltc_price</th>\n",
       "      <th>eth_price</th>\n",
       "    </tr>\n",
       "  </thead>\n",
       "  <tbody>\n",
       "    <tr>\n",
       "      <th>0</th>\n",
       "      <td>2019-01-01</td>\n",
       "      <td>2.706142e+11</td>\n",
       "      <td>175</td>\n",
       "      <td>136.468</td>\n",
       "      <td>26.410</td>\n",
       "      <td>11.123</td>\n",
       "      <td>42.7160</td>\n",
       "      <td>24.720324</td>\n",
       "      <td>55.035224</td>\n",
       "      <td>175</td>\n",
       "      <td>175</td>\n",
       "      <td>164.854599</td>\n",
       "      <td>3715.564441</td>\n",
       "      <td>31.979933</td>\n",
       "      <td>137.727646</td>\n",
       "    </tr>\n",
       "    <tr>\n",
       "      <th>1</th>\n",
       "      <td>2019-01-02</td>\n",
       "      <td>4.422842e+11</td>\n",
       "      <td>286</td>\n",
       "      <td>225.624</td>\n",
       "      <td>37.963</td>\n",
       "      <td>22.408</td>\n",
       "      <td>42.5077</td>\n",
       "      <td>20.725735</td>\n",
       "      <td>82.114492</td>\n",
       "      <td>286</td>\n",
       "      <td>286</td>\n",
       "      <td>171.827377</td>\n",
       "      <td>3882.304754</td>\n",
       "      <td>33.433681</td>\n",
       "      <td>153.965636</td>\n",
       "    </tr>\n",
       "    <tr>\n",
       "      <th>2</th>\n",
       "      <td>2019-01-03</td>\n",
       "      <td>4.577735e+11</td>\n",
       "      <td>296</td>\n",
       "      <td>225.704</td>\n",
       "      <td>46.506</td>\n",
       "      <td>20.787</td>\n",
       "      <td>60.4147</td>\n",
       "      <td>34.251326</td>\n",
       "      <td>98.111408</td>\n",
       "      <td>296</td>\n",
       "      <td>296</td>\n",
       "      <td>162.049927</td>\n",
       "      <td>3795.592741</td>\n",
       "      <td>32.026699</td>\n",
       "      <td>148.796873</td>\n",
       "    </tr>\n",
       "    <tr>\n",
       "      <th>3</th>\n",
       "      <td>2019-01-04</td>\n",
       "      <td>3.603619e+11</td>\n",
       "      <td>233</td>\n",
       "      <td>191.788</td>\n",
       "      <td>30.535</td>\n",
       "      <td>10.672</td>\n",
       "      <td>46.2377</td>\n",
       "      <td>27.768522</td>\n",
       "      <td>66.136730</td>\n",
       "      <td>233</td>\n",
       "      <td>233</td>\n",
       "      <td>161.395630</td>\n",
       "      <td>3812.381108</td>\n",
       "      <td>32.404167</td>\n",
       "      <td>152.873631</td>\n",
       "    </tr>\n",
       "    <tr>\n",
       "      <th>4</th>\n",
       "      <td>2019-01-07</td>\n",
       "      <td>3.820787e+11</td>\n",
       "      <td>251</td>\n",
       "      <td>194.829</td>\n",
       "      <td>35.885</td>\n",
       "      <td>16.279</td>\n",
       "      <td>40.4055</td>\n",
       "      <td>12.239006</td>\n",
       "      <td>70.893338</td>\n",
       "      <td>247</td>\n",
       "      <td>247</td>\n",
       "      <td>161.243973</td>\n",
       "      <td>3989.631741</td>\n",
       "      <td>37.806274</td>\n",
       "      <td>149.600165</td>\n",
       "    </tr>\n",
       "    <tr>\n",
       "      <th>...</th>\n",
       "      <td>...</td>\n",
       "      <td>...</td>\n",
       "      <td>...</td>\n",
       "      <td>...</td>\n",
       "      <td>...</td>\n",
       "      <td>...</td>\n",
       "      <td>...</td>\n",
       "      <td>...</td>\n",
       "      <td>...</td>\n",
       "      <td>...</td>\n",
       "      <td>...</td>\n",
       "      <td>...</td>\n",
       "      <td>...</td>\n",
       "      <td>...</td>\n",
       "      <td>...</td>\n",
       "    </tr>\n",
       "    <tr>\n",
       "      <th>259</th>\n",
       "      <td>2019-12-31</td>\n",
       "      <td>2.019603e+11</td>\n",
       "      <td>130</td>\n",
       "      <td>91.469</td>\n",
       "      <td>25.459</td>\n",
       "      <td>10.074</td>\n",
       "      <td>27.8508</td>\n",
       "      <td>13.747032</td>\n",
       "      <td>41.516811</td>\n",
       "      <td>128</td>\n",
       "      <td>128</td>\n",
       "      <td>204.623169</td>\n",
       "      <td>7179.957819</td>\n",
       "      <td>41.340073</td>\n",
       "      <td>128.722604</td>\n",
       "    </tr>\n",
       "    <tr>\n",
       "      <th>260</th>\n",
       "      <td>2020-01-01</td>\n",
       "      <td>1.956599e+11</td>\n",
       "      <td>124</td>\n",
       "      <td>94.982</td>\n",
       "      <td>20.297</td>\n",
       "      <td>8.720</td>\n",
       "      <td>28.5484</td>\n",
       "      <td>13.026155</td>\n",
       "      <td>38.683947</td>\n",
       "      <td>124</td>\n",
       "      <td>124</td>\n",
       "      <td>204.397537</td>\n",
       "      <td>7174.744012</td>\n",
       "      <td>42.017719</td>\n",
       "      <td>129.887363</td>\n",
       "    </tr>\n",
       "    <tr>\n",
       "      <th>261</th>\n",
       "      <td>2020-01-02</td>\n",
       "      <td>2.793038e+11</td>\n",
       "      <td>1411</td>\n",
       "      <td>136.657</td>\n",
       "      <td>25.557</td>\n",
       "      <td>13.783</td>\n",
       "      <td>30.7325</td>\n",
       "      <td>14.069506</td>\n",
       "      <td>51.179923</td>\n",
       "      <td>177</td>\n",
       "      <td>177</td>\n",
       "      <td>195.698563</td>\n",
       "      <td>6955.487580</td>\n",
       "      <td>39.823013</td>\n",
       "      <td>127.055601</td>\n",
       "    </tr>\n",
       "    <tr>\n",
       "      <th>262</th>\n",
       "      <td>2020-01-03</td>\n",
       "      <td>2.935215e+11</td>\n",
       "      <td>4390</td>\n",
       "      <td>144.610</td>\n",
       "      <td>28.309</td>\n",
       "      <td>13.078</td>\n",
       "      <td>24.5729</td>\n",
       "      <td>16.375188</td>\n",
       "      <td>50.544828</td>\n",
       "      <td>186</td>\n",
       "      <td>186</td>\n",
       "      <td>222.412979</td>\n",
       "      <td>7291.219505</td>\n",
       "      <td>42.415577</td>\n",
       "      <td>132.970833</td>\n",
       "    </tr>\n",
       "    <tr>\n",
       "      <th>263</th>\n",
       "      <td>2020-01-06</td>\n",
       "      <td>8.680670e+10</td>\n",
       "      <td>55</td>\n",
       "      <td>41.351</td>\n",
       "      <td>10.157</td>\n",
       "      <td>3.489</td>\n",
       "      <td>16.0805</td>\n",
       "      <td>6.974847</td>\n",
       "      <td>18.437123</td>\n",
       "      <td>55</td>\n",
       "      <td>55</td>\n",
       "      <td>244.557205</td>\n",
       "      <td>7713.860754</td>\n",
       "      <td>45.816353</td>\n",
       "      <td>143.131601</td>\n",
       "    </tr>\n",
       "  </tbody>\n",
       "</table>\n",
       "<p>264 rows × 15 columns</p>\n",
       "</div>"
      ],
      "text/plain": [
       "           Date   created_utc  score  vader_neu_score  vader_pos_score  \\\n",
       "0    2019-01-01  2.706142e+11    175          136.468           26.410   \n",
       "1    2019-01-02  4.422842e+11    286          225.624           37.963   \n",
       "2    2019-01-03  4.577735e+11    296          225.704           46.506   \n",
       "3    2019-01-04  3.603619e+11    233          191.788           30.535   \n",
       "4    2019-01-07  3.820787e+11    251          194.829           35.885   \n",
       "..          ...           ...    ...              ...              ...   \n",
       "259  2019-12-31  2.019603e+11    130           91.469           25.459   \n",
       "260  2020-01-01  1.956599e+11    124           94.982           20.297   \n",
       "261  2020-01-02  2.793038e+11   1411          136.657           25.557   \n",
       "262  2020-01-03  2.935215e+11   4390          144.610           28.309   \n",
       "263  2020-01-06  8.680670e+10     55           41.351           10.157   \n",
       "\n",
       "     vader_neg_score  vader_compound  blob_polarity  blob_subjectivity  \\\n",
       "0             11.123         42.7160      24.720324          55.035224   \n",
       "1             22.408         42.5077      20.725735          82.114492   \n",
       "2             20.787         60.4147      34.251326          98.111408   \n",
       "3             10.672         46.2377      27.768522          66.136730   \n",
       "4             16.279         40.4055      12.239006          70.893338   \n",
       "..               ...             ...            ...                ...   \n",
       "259           10.074         27.8508      13.747032          41.516811   \n",
       "260            8.720         28.5484      13.026155          38.683947   \n",
       "261           13.783         30.7325      14.069506          51.179923   \n",
       "262           13.078         24.5729      16.375188          50.544828   \n",
       "263            3.489         16.0805       6.974847          18.437123   \n",
       "\n",
       "     sum_posts_x  sum_posts_y  b_cash_price    btc_price  ltc_price  \\\n",
       "0            175          175    164.854599  3715.564441  31.979933   \n",
       "1            286          286    171.827377  3882.304754  33.433681   \n",
       "2            296          296    162.049927  3795.592741  32.026699   \n",
       "3            233          233    161.395630  3812.381108  32.404167   \n",
       "4            247          247    161.243973  3989.631741  37.806274   \n",
       "..           ...          ...           ...          ...        ...   \n",
       "259          128          128    204.623169  7179.957819  41.340073   \n",
       "260          124          124    204.397537  7174.744012  42.017719   \n",
       "261          177          177    195.698563  6955.487580  39.823013   \n",
       "262          186          186    222.412979  7291.219505  42.415577   \n",
       "263           55           55    244.557205  7713.860754  45.816353   \n",
       "\n",
       "      eth_price  \n",
       "0    137.727646  \n",
       "1    153.965636  \n",
       "2    148.796873  \n",
       "3    152.873631  \n",
       "4    149.600165  \n",
       "..          ...  \n",
       "259  128.722604  \n",
       "260  129.887363  \n",
       "261  127.055601  \n",
       "262  132.970833  \n",
       "263  143.131601  \n",
       "\n",
       "[264 rows x 15 columns]"
      ]
     },
     "execution_count": 2,
     "metadata": {},
     "output_type": "execute_result"
    }
   ],
   "source": [
    "df = pd.read_csv('./Reddit_data/Combined_Yearly_Data/stage5_final2019.csv')\n",
    "df"
   ]
  },
  {
   "cell_type": "code",
   "execution_count": 3,
   "metadata": {},
   "outputs": [],
   "source": [
    "target = df[['btc_price']]"
   ]
  },
  {
   "cell_type": "markdown",
   "metadata": {},
   "source": [
    "### LSTM Modeling"
   ]
  },
  {
   "cell_type": "code",
   "execution_count": 4,
   "metadata": {},
   "outputs": [],
   "source": [
    "look_back = 4"
   ]
  },
  {
   "cell_type": "code",
   "execution_count": 5,
   "metadata": {},
   "outputs": [],
   "source": [
    "X = target\n",
    "y = target.values\n",
    "\n",
    "X_train, X_test, y_train, y_test = train_test_split(X, y, test_size = 0.2,shuffle = False, random_state = 13)\n",
    "\n",
    "ss = StandardScaler()\n",
    "X_train_sc = ss.fit_transform(X_train)\n",
    "X_test_sc = ss.transform(X_test)\n",
    "\n",
    "train_seq = TimeseriesGenerator(X_train_sc, y_train, length = look_back, batch_size = 128)\n",
    "test_seq = TimeseriesGenerator(X_test_sc, y_test, length = look_back, batch_size = 128)"
   ]
  },
  {
   "cell_type": "code",
   "execution_count": 6,
   "metadata": {},
   "outputs": [],
   "source": [
    "model = Sequential()\n",
    "\n",
    "model.add(LSTM(64, input_shape=(3,1), return_sequences = True))\n",
    "model.add(Dense(1))\n",
    "\n",
    "model.compile(loss='mean_squared_error', optimizer='sgd', metrics = ['mae'])"
   ]
  },
  {
   "cell_type": "code",
   "execution_count": 7,
   "metadata": {
    "scrolled": true
   },
   "outputs": [
    {
     "name": "stdout",
     "output_type": "stream",
     "text": [
      "WARNING:tensorflow:sample_weight modes were coerced from\n",
      "  ...\n",
      "    to  \n",
      "  ['...']\n",
      "WARNING:tensorflow:sample_weight modes were coerced from\n",
      "  ...\n",
      "    to  \n",
      "  ['...']\n"
     ]
    }
   ],
   "source": [
    "hist = model.fit(train_seq, epochs=80, validation_data = test_seq, verbose = 0)"
   ]
  },
  {
   "cell_type": "code",
   "execution_count": 8,
   "metadata": {},
   "outputs": [],
   "source": [
    "train_loss = hist.history['loss']\n",
    "test_loss = hist.history['val_loss']"
   ]
  },
  {
   "cell_type": "code",
   "execution_count": 9,
   "metadata": {},
   "outputs": [
    {
     "data": {
      "image/png": "[encoded data removed]",
      "text/plain": [
       "<Figure size 1152x648 with 1 Axes>"
      ]
     },
     "metadata": {
      "needs_background": "light"
     },
     "output_type": "display_data"
    }
   ],
   "source": [
    "fig, ax = plt.subplots(figsize=(16,9))\n",
    "plt.plot(hist.history['loss'], label='Train loss')\n",
    "plt.plot(hist.history['val_loss'], label='Test loss')\n",
    "plt.xlabel('Epoch')\n",
    "plt.ylabel('Loss')\n",
    "plt.xlabel('Epoch')\n",
    "plt.ylabel('Loss')\n",
    "plt.legend();"
   ]
  },
  {
   "cell_type": "markdown",
   "metadata": {},
   "source": [
    "### Prediction Forecasting"
   ]
  },
  {
   "cell_type": "code",
   "execution_count": 10,
   "metadata": {},
   "outputs": [],
   "source": [
    "trainPredict = model.predict(train_seq)\n",
    "testPredict = model.predict(test_seq)"
   ]
  },
  {
   "cell_type": "code",
   "execution_count": 11,
   "metadata": {},
   "outputs": [],
   "source": [
    "trainPredict0 = trainPredict[:,0]\n",
    "trainPredict1 = trainPredict[:,1]\n",
    "trainPredict2 = trainPredict[:,2]\n",
    "trainPredict3 = trainPredict[:,3]"
   ]
  },
  {
   "cell_type": "code",
   "execution_count": 12,
   "metadata": {},
   "outputs": [],
   "source": [
    "testPredict0 = testPredict[:,0]\n",
    "testPredict1 = testPredict[:,1]\n",
    "testPredict2 = testPredict[:,2]\n",
    "testPredict3 = testPredict[:,3]"
   ]
  },
  {
   "cell_type": "code",
   "execution_count": 13,
   "metadata": {},
   "outputs": [],
   "source": [
    "Trial = (trainPredict0 + trainPredict1 + trainPredict2 + trainPredict3)/4"
   ]
  },
  {
   "cell_type": "code",
   "execution_count": 14,
   "metadata": {},
   "outputs": [],
   "source": [
    "TrialX = np.append((trainPredict[0]), Trial)"
   ]
  },
  {
   "cell_type": "code",
   "execution_count": 15,
   "metadata": {},
   "outputs": [],
   "source": [
    "Test = (testPredict0 + testPredict1 + testPredict2 + testPredict3)/4"
   ]
  },
  {
   "cell_type": "code",
   "execution_count": 16,
   "metadata": {},
   "outputs": [],
   "source": [
    "TestX = np.append(testPredict[0], Test)"
   ]
  },
  {
   "cell_type": "code",
   "execution_count": 17,
   "metadata": {},
   "outputs": [
    {
     "data": {
      "image/png": "[encoded data removed]",
      "text/plain": [
       "<Figure size 1152x648 with 1 Axes>"
      ]
     },
     "metadata": {
      "needs_background": "light"
     },
     "output_type": "display_data"
    }
   ],
   "source": [
    "fig, ax = plt.subplots(figsize=(16,9))\n",
    "plt.plot(TrialX, label = 'Train')\n",
    "plt.plot([None for i in TrialX] + [x for x in TestX], label = 'Test')\n",
    "plt.plot(target, label = 'Actual Price', color = 'black')\n",
    "plt.xlabel('Timestamp')\n",
    "plt.ylabel('Price')\n",
    "plt.title('Train/Test Vs Actual')\n",
    "plt.legend();"
   ]
  },
  {
   "cell_type": "markdown",
   "metadata": {},
   "source": [
    "### Model Evaluation"
   ]
  },
  {
   "cell_type": "code",
   "execution_count": 18,
   "metadata": {},
   "outputs": [
    {
     "name": "stdout",
     "output_type": "stream",
     "text": [
      "WARNING:tensorflow:sample_weight modes were coerced from\n",
      "  ...\n",
      "    to  \n",
      "  ['...']\n",
      "2/2 - 0s - loss: 725037.7500 - mae: 627.1357\n"
     ]
    }
   ],
   "source": [
    "scores = model.evaluate(train_seq, verbose=2)"
   ]
  },
  {
   "cell_type": "code",
   "execution_count": 19,
   "metadata": {},
   "outputs": [
    {
     "name": "stdout",
     "output_type": "stream",
     "text": [
      "Model Features: BTC Prices\n",
      "Model: \"sequential\"\n",
      "_________________________________________________________________\n",
      "Layer (type)                 Output Shape              Param #   \n",
      "=================================================================\n",
      "lstm (LSTM)                  (None, 3, 64)             16896     \n",
      "_________________________________________________________________\n",
      "dense (Dense)                (None, 3, 1)              65        \n",
      "=================================================================\n",
      "Total params: 16,961\n",
      "Trainable params: 16,961\n",
      "Non-trainable params: 0\n",
      "_________________________________________________________________\n",
      "Model RMSE Score: 851.491486\n",
      "Model MAE Score: 627.135742\n",
      "-----------------------------------------------------------------\n"
     ]
    }
   ],
   "source": [
    "print('Model Features: BTC Prices')\n",
    "model.summary()\n",
    "print('Model RMSE Score: %2f' % (scores[0]**0.5))\n",
    "print('Model MAE Score: %2f' % (scores[1]))\n",
    "print('-' * 65)"
   ]
  }
 ],
 "metadata": {
  "kernelspec": {
   "display_name": "Python 3",
   "language": "python",
   "name": "python3"
  },
  "language_info": {
   "codemirror_mode": {
    "name": "ipython",
    "version": 3
   },
   "file_extension": ".py",
   "mimetype": "text/x-python",
   "name": "python",
   "nbconvert_exporter": "python",
   "pygments_lexer": "ipython3",
   "version": "3.7.4"
  }
 },
 "nbformat": 4,
 "nbformat_minor": 2
}
